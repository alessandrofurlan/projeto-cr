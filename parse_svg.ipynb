{
 "cells": [
  {
   "cell_type": "code",
   "execution_count": 39,
   "metadata": {},
   "outputs": [],
   "source": [
    "with open('drawing.svg', 'r') as file:\n",
    "    html_doc = file.read()"
   ]
  },
  {
   "cell_type": "code",
   "execution_count": 40,
   "metadata": {},
   "outputs": [
    {
     "data": {
      "text/plain": [
       "<?xml version=\"1.0\" encoding=\"UTF-8\" standalone=\"no\"?>\n",
       "<svg height=\"297mm\" id=\"svg8\" inkscape:version=\"1.0.1 (0767f8302a, 2020-10-17)\" sodipodi:docname=\"drawing.svg\" version=\"1.1\" viewbox=\"0 0 210 297\" width=\"210mm\" xmlns=\"http://www.w3.org/2000/svg\" xmlns:cc=\"http://creativecommons.org/ns#\" xmlns:dc=\"http://purl.org/dc/elements/1.1/\" xmlns:inkscape=\"http://www.inkscape.org/namespaces/inkscape\" xmlns:rdf=\"http://www.w3.org/1999/02/22-rdf-syntax-ns#\" xmlns:sodipodi=\"http://sodipodi.sourceforge.net/DTD/sodipodi-0.dtd\" xmlns:svg=\"http://www.w3.org/2000/svg\">\n",
       "<defs id=\"defs2\"></defs>\n",
       "<sodipodi:namedview bordercolor=\"#666666\" borderopacity=\"1.0\" id=\"base\" inkscape:current-layer=\"layer1\" inkscape:cx=\"400\" inkscape:cy=\"398.74339\" inkscape:document-rotation=\"0\" inkscape:document-units=\"mm\" inkscape:pageopacity=\"0.0\" inkscape:pageshadow=\"2\" inkscape:window-height=\"744\" inkscape:window-maximized=\"1\" inkscape:window-width=\"1323\" inkscape:window-x=\"43\" inkscape:window-y=\"24\" inkscape:zoom=\"1.08\" pagecolor=\"#ffffff\" showgrid=\"false\"></sodipodi:namedview>\n",
       "<metadata id=\"metadata5\">\n",
       "<rdf:rdf>\n",
       "<cc:work rdf:about=\"\">\n",
       "<dc:format>image/svg+xml</dc:format>\n",
       "<dc:type rdf:resource=\"http://purl.org/dc/dcmitype/StillImage\"></dc:type>\n",
       "</cc:work>\n",
       "</rdf:rdf>\n",
       "</metadata>\n",
       "<g id=\"layer1\" inkscape:groupmode=\"layer\" inkscape:label=\"Layer 1\">\n",
       "<circle cx=\"95.547256\" cy=\"92.21254\" id=\"path118\" r=\"0.39687499\" style=\"fill:#000000;stroke:none;stroke-width:0.264583\"></circle>\n",
       "<circle cx=\"119.80073\" cy=\"92.21254\" id=\"path120\" r=\"0.39687499\" style=\"fill:#000000;stroke:none;stroke-width:0.264583\"></circle>\n",
       "<circle cx=\"95.947601\" cy=\"92.456528\" id=\"path122\" r=\"0.39687499\" style=\"fill:#000000;stroke:none;stroke-width:0.264583\"></circle>\n",
       "<circle cx=\"119.88623\" cy=\"92.728622\" id=\"path124\" r=\"0.39687499\" style=\"fill:#000000;stroke:none;stroke-width:0.264583\"></circle>\n",
       "<circle cx=\"140.46492\" cy=\"78.764503\" id=\"path126\" r=\"0.39687499\" style=\"fill:#000000;stroke:none;stroke-width:0.264583\"></circle>\n",
       "</g>\n",
       "</svg>"
      ]
     },
     "execution_count": 40,
     "metadata": {},
     "output_type": "execute_result"
    }
   ],
   "source": [
    "from bs4 import BeautifulSoup\n",
    "soup = BeautifulSoup(html_doc, 'html.parser')\n",
    "soup"
   ]
  },
  {
   "cell_type": "code",
   "execution_count": 41,
   "metadata": {},
   "outputs": [
    {
     "data": {
      "text/plain": [
       "[{'id': 'path118', 'x_coordinate': 95.547256, 'y_coordinate': 92.21254},\n",
       " {'id': 'path120', 'x_coordinate': 119.80073, 'y_coordinate': 92.21254},\n",
       " {'id': 'path122', 'x_coordinate': 95.947601, 'y_coordinate': 92.456528},\n",
       " {'id': 'path124', 'x_coordinate': 119.88623, 'y_coordinate': 92.728622},\n",
       " {'id': 'path126', 'x_coordinate': 140.46492, 'y_coordinate': 78.764503}]"
      ]
     },
     "execution_count": 41,
     "metadata": {},
     "output_type": "execute_result"
    }
   ],
   "source": [
    "pontos = [{\"id\": circle['id'], \"x_coordinate\": float(circle['cx']), \"y_coordinate\": float(circle['cy']) } for circle in soup.find_all('circle')]\n",
    "pontos"
   ]
  }
 ],
 "metadata": {
  "kernelspec": {
   "display_name": "Python 3.7.6 64-bit ('base': conda)",
   "language": "python",
   "name": "python37664bitbasecondab45b7b2c73f5488095639058eb6c9ef6"
  },
  "language_info": {
   "codemirror_mode": {
    "name": "ipython",
    "version": 3
   },
   "file_extension": ".py",
   "mimetype": "text/x-python",
   "name": "python",
   "nbconvert_exporter": "python",
   "pygments_lexer": "ipython3",
   "version": "3.8.3"
  }
 },
 "nbformat": 4,
 "nbformat_minor": 4
}
