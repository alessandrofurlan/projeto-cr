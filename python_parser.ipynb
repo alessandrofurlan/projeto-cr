{
 "cells": [
  {
   "cell_type": "code",
   "execution_count": 8,
   "metadata": {},
   "outputs": [
    {
     "output_type": "execute_result",
     "data": {
      "text/plain": [
       "    Source  Target        Type  Id  Label  timeset  Weight\n",
       "0        0      12  Undirected   0    NaN      NaN    32.8\n",
       "1       12       1  Undirected   1    NaN      NaN    17.0\n",
       "2       12      13  Undirected   2    NaN      NaN    15.3\n",
       "3        0      13  Undirected   3    NaN      NaN    38.0\n",
       "4        2      13  Undirected   4    NaN      NaN    18.8\n",
       "5        2      14  Undirected   5    NaN      NaN    24.0\n",
       "6       12      14  Undirected   6    NaN      NaN    39.0\n",
       "7        3      14  Undirected   7    NaN      NaN    25.0\n",
       "8        3      15  Undirected   8    NaN      NaN    12.0\n",
       "9       16      15  Undirected   9    NaN      NaN    45.0\n",
       "10      16      11  Undirected  10    NaN      NaN    11.0\n",
       "11      26      11  Undirected  11    NaN      NaN    24.0\n",
       "12      26      25  Undirected  12    NaN      NaN    65.0\n",
       "13      24      25  Undirected  13    NaN      NaN    36.0\n",
       "14      24       5  Undirected  14    NaN      NaN    22.0\n",
       "15      24      23  Undirected  15    NaN      NaN    30.0\n",
       "16       5      23  Undirected  17    NaN      NaN    13.0\n",
       "17       4      23  Undirected  18    NaN      NaN    14.0\n",
       "18      22      23  Undirected  19    NaN      NaN    31.0\n",
       "19      22       4  Undirected  20    NaN      NaN    17.0\n",
       "20       5      22  Undirected  21    NaN      NaN    25.0\n",
       "21      14      22  Undirected  22    NaN      NaN    71.0\n",
       "22      14      15  Undirected  23    NaN      NaN    30.0\n",
       "23      23      21  Undirected  24    NaN      NaN    70.0\n",
       "24      10      21  Undirected  25    NaN      NaN    54.0\n",
       "25      10       9  Undirected  26    NaN      NaN    63.0\n",
       "26       7       9  Undirected  27    NaN      NaN    80.0\n",
       "27       6       9  Undirected  28    NaN      NaN     7.0\n",
       "28       6       7  Undirected  29    NaN      NaN    80.0\n",
       "29       8      10  Undirected  30    NaN      NaN    75.0\n",
       "30      18      21  Undirected  31    NaN      NaN    60.0\n",
       "31      18      19  Undirected  33    NaN      NaN    23.0\n",
       "32      17      19  Undirected  34    NaN      NaN    22.0\n",
       "33      19      20  Undirected  35    NaN      NaN    40.0"
      ],
      "text/html": "<div>\n<style scoped>\n    .dataframe tbody tr th:only-of-type {\n        vertical-align: middle;\n    }\n\n    .dataframe tbody tr th {\n        vertical-align: top;\n    }\n\n    .dataframe thead th {\n        text-align: right;\n    }\n</style>\n<table border=\"1\" class=\"dataframe\">\n  <thead>\n    <tr style=\"text-align: right;\">\n      <th></th>\n      <th>Source</th>\n      <th>Target</th>\n      <th>Type</th>\n      <th>Id</th>\n      <th>Label</th>\n      <th>timeset</th>\n      <th>Weight</th>\n    </tr>\n  </thead>\n  <tbody>\n    <tr>\n      <th>0</th>\n      <td>0</td>\n      <td>12</td>\n      <td>Undirected</td>\n      <td>0</td>\n      <td>NaN</td>\n      <td>NaN</td>\n      <td>32.8</td>\n    </tr>\n    <tr>\n      <th>1</th>\n      <td>12</td>\n      <td>1</td>\n      <td>Undirected</td>\n      <td>1</td>\n      <td>NaN</td>\n      <td>NaN</td>\n      <td>17.0</td>\n    </tr>\n    <tr>\n      <th>2</th>\n      <td>12</td>\n      <td>13</td>\n      <td>Undirected</td>\n      <td>2</td>\n      <td>NaN</td>\n      <td>NaN</td>\n      <td>15.3</td>\n    </tr>\n    <tr>\n      <th>3</th>\n      <td>0</td>\n      <td>13</td>\n      <td>Undirected</td>\n      <td>3</td>\n      <td>NaN</td>\n      <td>NaN</td>\n      <td>38.0</td>\n    </tr>\n    <tr>\n      <th>4</th>\n      <td>2</td>\n      <td>13</td>\n      <td>Undirected</td>\n      <td>4</td>\n      <td>NaN</td>\n      <td>NaN</td>\n      <td>18.8</td>\n    </tr>\n    <tr>\n      <th>5</th>\n      <td>2</td>\n      <td>14</td>\n      <td>Undirected</td>\n      <td>5</td>\n      <td>NaN</td>\n      <td>NaN</td>\n      <td>24.0</td>\n    </tr>\n    <tr>\n      <th>6</th>\n      <td>12</td>\n      <td>14</td>\n      <td>Undirected</td>\n      <td>6</td>\n      <td>NaN</td>\n      <td>NaN</td>\n      <td>39.0</td>\n    </tr>\n    <tr>\n      <th>7</th>\n      <td>3</td>\n      <td>14</td>\n      <td>Undirected</td>\n      <td>7</td>\n      <td>NaN</td>\n      <td>NaN</td>\n      <td>25.0</td>\n    </tr>\n    <tr>\n      <th>8</th>\n      <td>3</td>\n      <td>15</td>\n      <td>Undirected</td>\n      <td>8</td>\n      <td>NaN</td>\n      <td>NaN</td>\n      <td>12.0</td>\n    </tr>\n    <tr>\n      <th>9</th>\n      <td>16</td>\n      <td>15</td>\n      <td>Undirected</td>\n      <td>9</td>\n      <td>NaN</td>\n      <td>NaN</td>\n      <td>45.0</td>\n    </tr>\n    <tr>\n      <th>10</th>\n      <td>16</td>\n      <td>11</td>\n      <td>Undirected</td>\n      <td>10</td>\n      <td>NaN</td>\n      <td>NaN</td>\n      <td>11.0</td>\n    </tr>\n    <tr>\n      <th>11</th>\n      <td>26</td>\n      <td>11</td>\n      <td>Undirected</td>\n      <td>11</td>\n      <td>NaN</td>\n      <td>NaN</td>\n      <td>24.0</td>\n    </tr>\n    <tr>\n      <th>12</th>\n      <td>26</td>\n      <td>25</td>\n      <td>Undirected</td>\n      <td>12</td>\n      <td>NaN</td>\n      <td>NaN</td>\n      <td>65.0</td>\n    </tr>\n    <tr>\n      <th>13</th>\n      <td>24</td>\n      <td>25</td>\n      <td>Undirected</td>\n      <td>13</td>\n      <td>NaN</td>\n      <td>NaN</td>\n      <td>36.0</td>\n    </tr>\n    <tr>\n      <th>14</th>\n      <td>24</td>\n      <td>5</td>\n      <td>Undirected</td>\n      <td>14</td>\n      <td>NaN</td>\n      <td>NaN</td>\n      <td>22.0</td>\n    </tr>\n    <tr>\n      <th>15</th>\n      <td>24</td>\n      <td>23</td>\n      <td>Undirected</td>\n      <td>15</td>\n      <td>NaN</td>\n      <td>NaN</td>\n      <td>30.0</td>\n    </tr>\n    <tr>\n      <th>16</th>\n      <td>5</td>\n      <td>23</td>\n      <td>Undirected</td>\n      <td>17</td>\n      <td>NaN</td>\n      <td>NaN</td>\n      <td>13.0</td>\n    </tr>\n    <tr>\n      <th>17</th>\n      <td>4</td>\n      <td>23</td>\n      <td>Undirected</td>\n      <td>18</td>\n      <td>NaN</td>\n      <td>NaN</td>\n      <td>14.0</td>\n    </tr>\n    <tr>\n      <th>18</th>\n      <td>22</td>\n      <td>23</td>\n      <td>Undirected</td>\n      <td>19</td>\n      <td>NaN</td>\n      <td>NaN</td>\n      <td>31.0</td>\n    </tr>\n    <tr>\n      <th>19</th>\n      <td>22</td>\n      <td>4</td>\n      <td>Undirected</td>\n      <td>20</td>\n      <td>NaN</td>\n      <td>NaN</td>\n      <td>17.0</td>\n    </tr>\n    <tr>\n      <th>20</th>\n      <td>5</td>\n      <td>22</td>\n      <td>Undirected</td>\n      <td>21</td>\n      <td>NaN</td>\n      <td>NaN</td>\n      <td>25.0</td>\n    </tr>\n    <tr>\n      <th>21</th>\n      <td>14</td>\n      <td>22</td>\n      <td>Undirected</td>\n      <td>22</td>\n      <td>NaN</td>\n      <td>NaN</td>\n      <td>71.0</td>\n    </tr>\n    <tr>\n      <th>22</th>\n      <td>14</td>\n      <td>15</td>\n      <td>Undirected</td>\n      <td>23</td>\n      <td>NaN</td>\n      <td>NaN</td>\n      <td>30.0</td>\n    </tr>\n    <tr>\n      <th>23</th>\n      <td>23</td>\n      <td>21</td>\n      <td>Undirected</td>\n      <td>24</td>\n      <td>NaN</td>\n      <td>NaN</td>\n      <td>70.0</td>\n    </tr>\n    <tr>\n      <th>24</th>\n      <td>10</td>\n      <td>21</td>\n      <td>Undirected</td>\n      <td>25</td>\n      <td>NaN</td>\n      <td>NaN</td>\n      <td>54.0</td>\n    </tr>\n    <tr>\n      <th>25</th>\n      <td>10</td>\n      <td>9</td>\n      <td>Undirected</td>\n      <td>26</td>\n      <td>NaN</td>\n      <td>NaN</td>\n      <td>63.0</td>\n    </tr>\n    <tr>\n      <th>26</th>\n      <td>7</td>\n      <td>9</td>\n      <td>Undirected</td>\n      <td>27</td>\n      <td>NaN</td>\n      <td>NaN</td>\n      <td>80.0</td>\n    </tr>\n    <tr>\n      <th>27</th>\n      <td>6</td>\n      <td>9</td>\n      <td>Undirected</td>\n      <td>28</td>\n      <td>NaN</td>\n      <td>NaN</td>\n      <td>7.0</td>\n    </tr>\n    <tr>\n      <th>28</th>\n      <td>6</td>\n      <td>7</td>\n      <td>Undirected</td>\n      <td>29</td>\n      <td>NaN</td>\n      <td>NaN</td>\n      <td>80.0</td>\n    </tr>\n    <tr>\n      <th>29</th>\n      <td>8</td>\n      <td>10</td>\n      <td>Undirected</td>\n      <td>30</td>\n      <td>NaN</td>\n      <td>NaN</td>\n      <td>75.0</td>\n    </tr>\n    <tr>\n      <th>30</th>\n      <td>18</td>\n      <td>21</td>\n      <td>Undirected</td>\n      <td>31</td>\n      <td>NaN</td>\n      <td>NaN</td>\n      <td>60.0</td>\n    </tr>\n    <tr>\n      <th>31</th>\n      <td>18</td>\n      <td>19</td>\n      <td>Undirected</td>\n      <td>33</td>\n      <td>NaN</td>\n      <td>NaN</td>\n      <td>23.0</td>\n    </tr>\n    <tr>\n      <th>32</th>\n      <td>17</td>\n      <td>19</td>\n      <td>Undirected</td>\n      <td>34</td>\n      <td>NaN</td>\n      <td>NaN</td>\n      <td>22.0</td>\n    </tr>\n    <tr>\n      <th>33</th>\n      <td>19</td>\n      <td>20</td>\n      <td>Undirected</td>\n      <td>35</td>\n      <td>NaN</td>\n      <td>NaN</td>\n      <td>40.0</td>\n    </tr>\n  </tbody>\n</table>\n</div>"
     },
     "metadata": {},
     "execution_count": 8
    }
   ],
   "source": [
    "import networkx as nx\n",
    "import pandas as pd\n",
    "import matplotlib.pyplot as plt\n",
    "df = pd.read_csv('gephi_data_edges.csv')\n",
    "df"
   ]
  },
  {
   "cell_type": "code",
   "execution_count": 9,
   "metadata": {},
   "outputs": [
    {
     "output_type": "execute_result",
     "data": {
      "text/plain": [
       "[\"0 12 {'weight': 32.8}\",\n",
       " \"12 1 {'weight': 17.0}\",\n",
       " \"12 13 {'weight': 15.3}\",\n",
       " \"0 13 {'weight': 38.0}\",\n",
       " \"2 13 {'weight': 18.8}\",\n",
       " \"2 14 {'weight': 24.0}\",\n",
       " \"12 14 {'weight': 39.0}\",\n",
       " \"3 14 {'weight': 25.0}\",\n",
       " \"3 15 {'weight': 12.0}\",\n",
       " \"16 15 {'weight': 45.0}\",\n",
       " \"16 11 {'weight': 11.0}\",\n",
       " \"26 11 {'weight': 24.0}\",\n",
       " \"26 25 {'weight': 65.0}\",\n",
       " \"24 25 {'weight': 36.0}\",\n",
       " \"24 5 {'weight': 22.0}\",\n",
       " \"24 23 {'weight': 30.0}\",\n",
       " \"5 23 {'weight': 13.0}\",\n",
       " \"4 23 {'weight': 14.0}\",\n",
       " \"22 23 {'weight': 31.0}\",\n",
       " \"22 4 {'weight': 17.0}\",\n",
       " \"5 22 {'weight': 25.0}\",\n",
       " \"14 22 {'weight': 71.0}\",\n",
       " \"14 15 {'weight': 30.0}\",\n",
       " \"23 21 {'weight': 70.0}\",\n",
       " \"10 21 {'weight': 54.0}\",\n",
       " \"10 9 {'weight': 63.0}\",\n",
       " \"7 9 {'weight': 80.0}\",\n",
       " \"6 9 {'weight': 7.0}\",\n",
       " \"6 7 {'weight': 80.0}\",\n",
       " \"8 10 {'weight': 75.0}\",\n",
       " \"18 21 {'weight': 60.0}\",\n",
       " \"18 19 {'weight': 23.0}\",\n",
       " \"17 19 {'weight': 22.0}\",\n",
       " \"19 20 {'weight': 40.0}\"]"
      ]
     },
     "metadata": {},
     "execution_count": 9
    }
   ],
   "source": [
    " lista_edges = [\"{{source}} {{target}} {'weight': {{weight}}}\".replace(\"{{source}}\", str(v[0])).replace(\"{{target}}\", str(v[1])).replace(\"{{weight}}\", str(v[6])) for v in df.values.tolist()]\n",
    " lista_edges"
   ]
  },
  {
   "cell_type": "code",
   "execution_count": 10,
   "metadata": {},
   "outputs": [
    {
     "output_type": "execute_result",
     "data": {
      "text/plain": [
       "[(0, 12, {'weight': 32.8}),\n",
       " (0, 13, {'weight': 38.0}),\n",
       " (12, 1, {'weight': 17.0}),\n",
       " (12, 13, {'weight': 15.3}),\n",
       " (12, 14, {'weight': 39.0}),\n",
       " (13, 2, {'weight': 18.8}),\n",
       " (2, 14, {'weight': 24.0}),\n",
       " (14, 3, {'weight': 25.0}),\n",
       " (14, 22, {'weight': 71.0}),\n",
       " (14, 15, {'weight': 30.0}),\n",
       " (3, 15, {'weight': 12.0}),\n",
       " (15, 16, {'weight': 45.0}),\n",
       " (16, 11, {'weight': 11.0}),\n",
       " (11, 26, {'weight': 24.0}),\n",
       " (26, 25, {'weight': 65.0}),\n",
       " (25, 24, {'weight': 36.0}),\n",
       " (24, 5, {'weight': 22.0}),\n",
       " (24, 23, {'weight': 30.0}),\n",
       " (5, 23, {'weight': 13.0}),\n",
       " (5, 22, {'weight': 25.0}),\n",
       " (23, 4, {'weight': 14.0}),\n",
       " (23, 22, {'weight': 31.0}),\n",
       " (23, 21, {'weight': 70.0}),\n",
       " (4, 22, {'weight': 17.0}),\n",
       " (21, 10, {'weight': 54.0}),\n",
       " (21, 18, {'weight': 60.0}),\n",
       " (10, 9, {'weight': 63.0}),\n",
       " (10, 8, {'weight': 75.0}),\n",
       " (9, 7, {'weight': 80.0}),\n",
       " (9, 6, {'weight': 7.0}),\n",
       " (7, 6, {'weight': 80.0}),\n",
       " (18, 19, {'weight': 23.0}),\n",
       " (19, 17, {'weight': 22.0}),\n",
       " (19, 20, {'weight': 40.0})]"
      ]
     },
     "metadata": {},
     "execution_count": 10
    }
   ],
   "source": [
    "G = nx.parse_edgelist(lista_edges, nodetype=int)\n",
    "list(G.edges(data=True))"
   ]
  },
  {
   "cell_type": "code",
   "execution_count": 11,
   "metadata": {},
   "outputs": [
    {
     "output_type": "display_data",
     "data": {
      "text/plain": "<Figure size 432x288 with 1 Axes>",
      "image/svg+xml": "<?xml version=\"1.0\" encoding=\"utf-8\" standalone=\"no\"?>\r\n<!DOCTYPE svg PUBLIC \"-//W3C//DTD SVG 1.1//EN\"\r\n  \"http://www.w3.org/Graphics/SVG/1.1/DTD/svg11.dtd\">\r\n<!-- Created with matplotlib (https://matplotlib.org/) -->\r\n<svg height=\"231.84pt\" version=\"1.1\" viewBox=\"0 0 166.581818 231.84\" width=\"166.581818pt\" xmlns=\"http://www.w3.org/2000/svg\" xmlns:xlink=\"http://www.w3.org/1999/xlink\">\r\n <defs>\r\n  <style type=\"text/css\">\r\n*{stroke-linecap:butt;stroke-linejoin:round;}\r\n  </style>\r\n </defs>\r\n <g id=\"figure_1\">\r\n  <g id=\"patch_1\">\r\n   <path d=\"M 0 231.84 \r\nL 166.581818 231.84 \r\nL 166.581818 0 \r\nL 0 0 \r\nz\r\n\" style=\"fill:#ffffff;\"/>\r\n  </g>\r\n  <g id=\"axes_1\">\r\n   <g id=\"LineCollection_1\">\r\n    <path clip-path=\"url(#pf07152a7be)\" d=\"M 62.352918 202.989112 \r\nL 67.281184 183.492005 \r\n\" style=\"fill:none;stroke:#0000ff;\"/>\r\n    <path clip-path=\"url(#pf07152a7be)\" d=\"M 62.352918 202.989112 \r\nL 54.306795 197.079263 \r\n\" style=\"fill:none;stroke:#0000ff;\"/>\r\n    <path clip-path=\"url(#pf07152a7be)\" d=\"M 67.281184 183.492005 \r\nL 77.553577 210.727523 \r\n\" style=\"fill:none;stroke:#0000ff;\"/>\r\n    <path clip-path=\"url(#pf07152a7be)\" d=\"M 67.281184 183.492005 \r\nL 54.306795 197.079263 \r\n\" style=\"fill:none;stroke:#0000ff;\"/>\r\n    <path clip-path=\"url(#pf07152a7be)\" d=\"M 67.281184 183.492005 \r\nL 64.595859 152.526379 \r\n\" style=\"fill:none;stroke:#0000ff;\"/>\r\n    <path clip-path=\"url(#pf07152a7be)\" d=\"M 54.306795 197.079263 \r\nL 56.768485 175.761368 \r\n\" style=\"fill:none;stroke:#0000ff;\"/>\r\n    <path clip-path=\"url(#pf07152a7be)\" d=\"M 56.768485 175.761368 \r\nL 64.595859 152.526379 \r\n\" style=\"fill:none;stroke:#0000ff;\"/>\r\n    <path clip-path=\"url(#pf07152a7be)\" d=\"M 64.595859 152.526379 \r\nL 48.464197 158.774616 \r\n\" style=\"fill:none;stroke:#0000ff;\"/>\r\n    <path clip-path=\"url(#pf07152a7be)\" d=\"M 64.595859 152.526379 \r\nL 75.694295 129.264052 \r\n\" style=\"fill:none;stroke:#0000ff;\"/>\r\n    <path clip-path=\"url(#pf07152a7be)\" d=\"M 64.595859 152.526379 \r\nL 41.696916 145.117771 \r\n\" style=\"fill:none;stroke:#0000ff;\"/>\r\n    <path clip-path=\"url(#pf07152a7be)\" d=\"M 48.464197 158.774616 \r\nL 41.696916 145.117771 \r\n\" style=\"fill:none;stroke:#0000ff;\"/>\r\n    <path clip-path=\"url(#pf07152a7be)\" d=\"M 41.696916 145.117771 \r\nL 26.959379 134.419072 \r\n\" style=\"fill:none;stroke:#0000ff;\"/>\r\n    <path clip-path=\"url(#pf07152a7be)\" d=\"M 26.959379 134.419072 \r\nL 18.919182 102.868599 \r\n\" style=\"fill:none;stroke:#0000ff;\"/>\r\n    <path clip-path=\"url(#pf07152a7be)\" d=\"M 18.919182 102.868599 \r\nL 33.409348 87.214969 \r\n\" style=\"fill:none;stroke:#0000ff;\"/>\r\n    <path clip-path=\"url(#pf07152a7be)\" d=\"M 33.409348 87.214969 \r\nL 46.717279 85.410293 \r\n\" style=\"fill:none;stroke:#0000ff;\"/>\r\n    <path clip-path=\"url(#pf07152a7be)\" d=\"M 46.717279 85.410293 \r\nL 66.064987 92.349989 \r\n\" style=\"fill:none;stroke:#0000ff;\"/>\r\n    <path clip-path=\"url(#pf07152a7be)\" d=\"M 66.064987 92.349989 \r\nL 79.385728 101.566864 \r\n\" style=\"fill:none;stroke:#0000ff;\"/>\r\n    <path clip-path=\"url(#pf07152a7be)\" d=\"M 66.064987 92.349989 \r\nL 85.933895 105.677823 \r\n\" style=\"fill:none;stroke:#0000ff;\"/>\r\n    <path clip-path=\"url(#pf07152a7be)\" d=\"M 79.385728 101.566864 \r\nL 85.933895 105.677823 \r\n\" style=\"fill:none;stroke:#0000ff;\"/>\r\n    <path clip-path=\"url(#pf07152a7be)\" d=\"M 79.385728 101.566864 \r\nL 75.694295 129.264052 \r\n\" style=\"fill:none;stroke:#0000ff;\"/>\r\n    <path clip-path=\"url(#pf07152a7be)\" d=\"M 85.933895 105.677823 \r\nL 95.364795 117.741107 \r\n\" style=\"fill:none;stroke:#0000ff;\"/>\r\n    <path clip-path=\"url(#pf07152a7be)\" d=\"M 85.933895 105.677823 \r\nL 75.694295 129.264052 \r\n\" style=\"fill:none;stroke:#0000ff;\"/>\r\n    <path clip-path=\"url(#pf07152a7be)\" d=\"M 85.933895 105.677823 \r\nL 98.906906 95.876703 \r\n\" style=\"fill:none;stroke:#0000ff;\"/>\r\n    <path clip-path=\"url(#pf07152a7be)\" d=\"M 95.364795 117.741107 \r\nL 75.694295 129.264052 \r\n\" style=\"fill:none;stroke:#0000ff;\"/>\r\n    <path clip-path=\"url(#pf07152a7be)\" d=\"M 98.906906 95.876703 \r\nL 117.241562 116.442975 \r\n\" style=\"fill:none;stroke:#0000ff;\"/>\r\n    <path clip-path=\"url(#pf07152a7be)\" d=\"M 98.906906 95.876703 \r\nL 87.320788 72.718413 \r\n\" style=\"fill:none;stroke:#0000ff;\"/>\r\n    <path clip-path=\"url(#pf07152a7be)\" d=\"M 117.241562 116.442975 \r\nL 129.670619 135.188419 \r\n\" style=\"fill:none;stroke:#0000ff;\"/>\r\n    <path clip-path=\"url(#pf07152a7be)\" d=\"M 117.241562 116.442975 \r\nL 128.41338 113.486538 \r\n\" style=\"fill:none;stroke:#0000ff;\"/>\r\n    <path clip-path=\"url(#pf07152a7be)\" d=\"M 129.670619 135.188419 \r\nL 139.256483 146.969962 \r\n\" style=\"fill:none;stroke:#0000ff;\"/>\r\n    <path clip-path=\"url(#pf07152a7be)\" d=\"M 129.670619 135.188419 \r\nL 147.662636 153.678224 \r\n\" style=\"fill:none;stroke:#0000ff;\"/>\r\n    <path clip-path=\"url(#pf07152a7be)\" d=\"M 139.256483 146.969962 \r\nL 147.662636 153.678224 \r\n\" style=\"fill:none;stroke:#0000ff;\"/>\r\n    <path clip-path=\"url(#pf07152a7be)\" d=\"M 87.320788 72.718413 \r\nL 68.582889 40.556679 \r\n\" style=\"fill:none;stroke:#0000ff;\"/>\r\n    <path clip-path=\"url(#pf07152a7be)\" d=\"M 68.582889 40.556679 \r\nL 53.481459 21.112477 \r\n\" style=\"fill:none;stroke:#0000ff;\"/>\r\n    <path clip-path=\"url(#pf07152a7be)\" d=\"M 68.582889 40.556679 \r\nL 68.130282 22.2205 \r\n\" style=\"fill:none;stroke:#0000ff;\"/>\r\n   </g>\r\n   <g id=\"PathCollection_1\">\r\n    <defs>\r\n     <path d=\"M 0 8.660254 \r\nC 2.296726 8.660254 4.499694 7.747755 6.123724 6.123724 \r\nC 7.747755 4.499694 8.660254 2.296726 8.660254 0 \r\nC 8.660254 -2.296726 7.747755 -4.499694 6.123724 -6.123724 \r\nC 4.499694 -7.747755 2.296726 -8.660254 0 -8.660254 \r\nC -2.296726 -8.660254 -4.499694 -7.747755 -6.123724 -6.123724 \r\nC -7.747755 -4.499694 -8.660254 -2.296726 -8.660254 0 \r\nC -8.660254 2.296726 -7.747755 4.499694 -6.123724 6.123724 \r\nC -4.499694 7.747755 -2.296726 8.660254 0 8.660254 \r\nz\r\n\" id=\"m1e48332432\" style=\"stroke:#ff0000;\"/>\r\n    </defs>\r\n    <g clip-path=\"url(#pf07152a7be)\">\r\n     <use style=\"fill:#ff0000;stroke:#ff0000;\" x=\"62.352918\" xlink:href=\"#m1e48332432\" y=\"202.989112\"/>\r\n     <use style=\"fill:#ff0000;stroke:#ff0000;\" x=\"67.281184\" xlink:href=\"#m1e48332432\" y=\"183.492005\"/>\r\n     <use style=\"fill:#ff0000;stroke:#ff0000;\" x=\"77.553577\" xlink:href=\"#m1e48332432\" y=\"210.727523\"/>\r\n     <use style=\"fill:#ff0000;stroke:#ff0000;\" x=\"54.306795\" xlink:href=\"#m1e48332432\" y=\"197.079263\"/>\r\n     <use style=\"fill:#ff0000;stroke:#ff0000;\" x=\"56.768485\" xlink:href=\"#m1e48332432\" y=\"175.761368\"/>\r\n     <use style=\"fill:#ff0000;stroke:#ff0000;\" x=\"64.595859\" xlink:href=\"#m1e48332432\" y=\"152.526379\"/>\r\n     <use style=\"fill:#ff0000;stroke:#ff0000;\" x=\"48.464197\" xlink:href=\"#m1e48332432\" y=\"158.774616\"/>\r\n     <use style=\"fill:#ff0000;stroke:#ff0000;\" x=\"41.696916\" xlink:href=\"#m1e48332432\" y=\"145.117771\"/>\r\n     <use style=\"fill:#ff0000;stroke:#ff0000;\" x=\"26.959379\" xlink:href=\"#m1e48332432\" y=\"134.419072\"/>\r\n     <use style=\"fill:#ff0000;stroke:#ff0000;\" x=\"18.919182\" xlink:href=\"#m1e48332432\" y=\"102.868599\"/>\r\n     <use style=\"fill:#ff0000;stroke:#ff0000;\" x=\"33.409348\" xlink:href=\"#m1e48332432\" y=\"87.214969\"/>\r\n     <use style=\"fill:#ff0000;stroke:#ff0000;\" x=\"46.717279\" xlink:href=\"#m1e48332432\" y=\"85.410293\"/>\r\n     <use style=\"fill:#ff0000;stroke:#ff0000;\" x=\"66.064987\" xlink:href=\"#m1e48332432\" y=\"92.349989\"/>\r\n     <use style=\"fill:#ff0000;stroke:#ff0000;\" x=\"79.385728\" xlink:href=\"#m1e48332432\" y=\"101.566864\"/>\r\n     <use style=\"fill:#ff0000;stroke:#ff0000;\" x=\"85.933895\" xlink:href=\"#m1e48332432\" y=\"105.677823\"/>\r\n     <use style=\"fill:#ff0000;stroke:#ff0000;\" x=\"95.364795\" xlink:href=\"#m1e48332432\" y=\"117.741107\"/>\r\n     <use style=\"fill:#ff0000;stroke:#ff0000;\" x=\"75.694295\" xlink:href=\"#m1e48332432\" y=\"129.264052\"/>\r\n     <use style=\"fill:#ff0000;stroke:#ff0000;\" x=\"98.906906\" xlink:href=\"#m1e48332432\" y=\"95.876703\"/>\r\n     <use style=\"fill:#ff0000;stroke:#ff0000;\" x=\"117.241562\" xlink:href=\"#m1e48332432\" y=\"116.442975\"/>\r\n     <use style=\"fill:#ff0000;stroke:#ff0000;\" x=\"129.670619\" xlink:href=\"#m1e48332432\" y=\"135.188419\"/>\r\n     <use style=\"fill:#ff0000;stroke:#ff0000;\" x=\"139.256483\" xlink:href=\"#m1e48332432\" y=\"146.969962\"/>\r\n     <use style=\"fill:#ff0000;stroke:#ff0000;\" x=\"147.662636\" xlink:href=\"#m1e48332432\" y=\"153.678224\"/>\r\n     <use style=\"fill:#ff0000;stroke:#ff0000;\" x=\"128.41338\" xlink:href=\"#m1e48332432\" y=\"113.486538\"/>\r\n     <use style=\"fill:#ff0000;stroke:#ff0000;\" x=\"87.320788\" xlink:href=\"#m1e48332432\" y=\"72.718413\"/>\r\n     <use style=\"fill:#ff0000;stroke:#ff0000;\" x=\"68.582889\" xlink:href=\"#m1e48332432\" y=\"40.556679\"/>\r\n     <use style=\"fill:#ff0000;stroke:#ff0000;\" x=\"53.481459\" xlink:href=\"#m1e48332432\" y=\"21.112477\"/>\r\n     <use style=\"fill:#ff0000;stroke:#ff0000;\" x=\"68.130282\" xlink:href=\"#m1e48332432\" y=\"22.2205\"/>\r\n    </g>\r\n   </g>\r\n  </g>\r\n </g>\r\n <defs>\r\n  <clipPath id=\"pf07152a7be\">\r\n   <rect height=\"217.44\" width=\"152.181818\" x=\"7.2\" y=\"7.2\"/>\r\n  </clipPath>\r\n </defs>\r\n</svg>\r\n",
      "image/png": "[encoded data removed]"
     },
     "metadata": {}
    }
   ],
   "source": [
    "plt.subplot(121)\n",
    "nx.draw(G, node_color='r', edge_color='b')   # default spring_layout\n",
    "# plt.subplot(122)"
   ]
  },
  {
   "cell_type": "code",
   "execution_count": 12,
   "metadata": {},
   "outputs": [
    {
     "output_type": "execute_result",
     "data": {
      "text/plain": [
       "    Id                       Label\n",
       "0    0       sbc_alfa1_entrada_sul\n",
       "1    1     sbc_delta_entrada_leste\n",
       "2    2      sbc_beta_entrada_oeste\n",
       "3    3        sbc_ru_entrada norte\n",
       "4    4       sbc_delta_entrada_sul\n",
       "5    5  sbc_elbranco_entrada_norte\n",
       "6    6     sbc_alfa2_entrada_norte\n",
       "7    7       sbc_omega_entrada_sul\n",
       "8    8     sbc_omega_entrada_norte\n",
       "9    9      sbc_areiao_entrada_sul\n",
       "10  10    sbc_areiao_entrada_norte\n",
       "11  11                 sbc_fretado\n",
       "12  12          sbc_tranferencia_1\n",
       "13  13         sbc_transferencia_2\n",
       "14  14         sbc_transferencia_3\n",
       "15  15         sbc_transferencia_4\n",
       "16  16         sbc_transferencia_5\n",
       "17  17         sbc_transferencia_6\n",
       "18  18         sbc_transferencia_7\n",
       "19  19         sbc_transferencia_8\n",
       "20  20     sbc_alfa1_entrada_norte\n",
       "21  21         sbc_transferencia_9\n",
       "22  22        sbc_transferencia_10\n",
       "23  23        sbc_transferencia_11\n",
       "24  24        sbc_transferencia_12\n",
       "25  25        sbc_transferencia_13\n",
       "26  26        sbc_transferencia_14\n",
       "27  27       sbc_alfa2_entrada_sul"
      ],
      "text/html": "<div>\n<style scoped>\n    .dataframe tbody tr th:only-of-type {\n        vertical-align: middle;\n    }\n\n    .dataframe tbody tr th {\n        vertical-align: top;\n    }\n\n    .dataframe thead th {\n        text-align: right;\n    }\n</style>\n<table border=\"1\" class=\"dataframe\">\n  <thead>\n    <tr style=\"text-align: right;\">\n      <th></th>\n      <th>Id</th>\n      <th>Label</th>\n    </tr>\n  </thead>\n  <tbody>\n    <tr>\n      <th>0</th>\n      <td>0</td>\n      <td>sbc_alfa1_entrada_sul</td>\n    </tr>\n    <tr>\n      <th>1</th>\n      <td>1</td>\n      <td>sbc_delta_entrada_leste</td>\n    </tr>\n    <tr>\n      <th>2</th>\n      <td>2</td>\n      <td>sbc_beta_entrada_oeste</td>\n    </tr>\n    <tr>\n      <th>3</th>\n      <td>3</td>\n      <td>sbc_ru_entrada norte</td>\n    </tr>\n    <tr>\n      <th>4</th>\n      <td>4</td>\n      <td>sbc_delta_entrada_sul</td>\n    </tr>\n    <tr>\n      <th>5</th>\n      <td>5</td>\n      <td>sbc_elbranco_entrada_norte</td>\n    </tr>\n    <tr>\n      <th>6</th>\n      <td>6</td>\n      <td>sbc_alfa2_entrada_norte</td>\n    </tr>\n    <tr>\n      <th>7</th>\n      <td>7</td>\n      <td>sbc_omega_entrada_sul</td>\n    </tr>\n    <tr>\n      <th>8</th>\n      <td>8</td>\n      <td>sbc_omega_entrada_norte</td>\n    </tr>\n    <tr>\n      <th>9</th>\n      <td>9</td>\n      <td>sbc_areiao_entrada_sul</td>\n    </tr>\n    <tr>\n      <th>10</th>\n      <td>10</td>\n      <td>sbc_areiao_entrada_norte</td>\n    </tr>\n    <tr>\n      <th>11</th>\n      <td>11</td>\n      <td>sbc_fretado</td>\n    </tr>\n    <tr>\n      <th>12</th>\n      <td>12</td>\n      <td>sbc_tranferencia_1</td>\n    </tr>\n    <tr>\n      <th>13</th>\n      <td>13</td>\n      <td>sbc_transferencia_2</td>\n    </tr>\n    <tr>\n      <th>14</th>\n      <td>14</td>\n      <td>sbc_transferencia_3</td>\n    </tr>\n    <tr>\n      <th>15</th>\n      <td>15</td>\n      <td>sbc_transferencia_4</td>\n    </tr>\n    <tr>\n      <th>16</th>\n      <td>16</td>\n      <td>sbc_transferencia_5</td>\n    </tr>\n    <tr>\n      <th>17</th>\n      <td>17</td>\n      <td>sbc_transferencia_6</td>\n    </tr>\n    <tr>\n      <th>18</th>\n      <td>18</td>\n      <td>sbc_transferencia_7</td>\n    </tr>\n    <tr>\n      <th>19</th>\n      <td>19</td>\n      <td>sbc_transferencia_8</td>\n    </tr>\n    <tr>\n      <th>20</th>\n      <td>20</td>\n      <td>sbc_alfa1_entrada_norte</td>\n    </tr>\n    <tr>\n      <th>21</th>\n      <td>21</td>\n      <td>sbc_transferencia_9</td>\n    </tr>\n    <tr>\n      <th>22</th>\n      <td>22</td>\n      <td>sbc_transferencia_10</td>\n    </tr>\n    <tr>\n      <th>23</th>\n      <td>23</td>\n      <td>sbc_transferencia_11</td>\n    </tr>\n    <tr>\n      <th>24</th>\n      <td>24</td>\n      <td>sbc_transferencia_12</td>\n    </tr>\n    <tr>\n      <th>25</th>\n      <td>25</td>\n      <td>sbc_transferencia_13</td>\n    </tr>\n    <tr>\n      <th>26</th>\n      <td>26</td>\n      <td>sbc_transferencia_14</td>\n    </tr>\n    <tr>\n      <th>27</th>\n      <td>27</td>\n      <td>sbc_alfa2_entrada_sul</td>\n    </tr>\n  </tbody>\n</table>\n</div>"
     },
     "metadata": {},
     "execution_count": 12
    }
   ],
   "source": [
    "nodes = pd.read_csv('gephi_data_nodes.csv')\n",
    "nodes = nodes[['Id','Label']]\n",
    "nodes"
   ]
  },
  {
   "cell_type": "code",
   "execution_count": 17,
   "metadata": {},
   "outputs": [
    {
     "output_type": "execute_result",
     "data": {
      "text/plain": [
       "['sbc_alfa1_entrada_sul', 'sbc_tranferencia_1', 'sbc_delta_entrada_leste']"
      ]
     },
     "metadata": {},
     "execution_count": 17
    }
   ],
   "source": [
    "depara_temp = nodes.to_dict()\n",
    "string_to_index = {y:x for x,y in depara_temp[\"Label\"].items()}\n",
    "index_to_string = {x:y for x,y in depara_temp[\"Label\"].items()}\n",
    "\n",
    "def caminho(node1, node2):\n",
    "    id_inicio = string_to_index[node1]\n",
    "    id_fim = string_to_index[node2]\n",
    "    path = nx.shortest_path(G, source=id_inicio, target=id_fim)\n",
    "    path_string = [index_to_string[index] for index in path]\n",
    "    return path_string\n",
    "\n",
    "caminho('sbc_alfa1_entrada_sul', 'sbc_delta_entrada_leste')"
   ]
  },
  {
   "cell_type": "code",
   "execution_count": null,
   "metadata": {},
   "outputs": [],
   "source": [
    "path = nx.shortest_path(G, source=id_inicio, target=id_fim)\n",
    "print(path)"
   ]
  }
 ],
 "metadata": {
  "kernelspec": {
   "name": "python3",
   "display_name": "Python 3.7.6 64-bit (conda)",
   "metadata": {
    "interpreter": {
     "hash": "37eb5e3bb9792a6a35ae4cc37ddd8d91a257666e8cc598648863c6d41734e62c"
    }
   }
  },
  "language_info": {
   "codemirror_mode": {
    "name": "ipython",
    "version": 3
   },
   "file_extension": ".py",
   "mimetype": "text/x-python",
   "name": "python",
   "nbconvert_exporter": "python",
   "pygments_lexer": "ipython3",
   "version": "3.7.6-final"
  }
 },
 "nbformat": 4,
 "nbformat_minor": 4
}