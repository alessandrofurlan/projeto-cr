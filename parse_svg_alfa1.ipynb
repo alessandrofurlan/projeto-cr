{
 "cells": [
  {
   "cell_type": "code",
   "execution_count": 3,
   "metadata": {},
   "outputs": [],
   "source": [
    "from bs4 import BeautifulSoup\n",
    "\n",
    "def getPotintsCoordinates(fileName):\n",
    "    with open(fileName, 'r') as file:\n",
    "        html_doc = file.read()\n",
    "        soup = BeautifulSoup(html_doc, 'html.parser')\n",
    "        points = [{\"id\": circle['id'], \"x_coordinate\": float(circle['cx']), \"y_coordinate\": float(circle['cy']) } for circle in soup.find_all('circle') + soup.find_all('ellipse')]\n",
    "        return points "
   ]
  },
  {
   "cell_type": "code",
   "execution_count": 8,
   "metadata": {},
   "outputs": [],
   "source": [
    "pontosAlfa1Terreo = getPotintsCoordinates('Alfa1/Alfa1_terreo_sem_imagem.svg')\n",
    "pontosAlfa1Andar1 = getPotintsCoordinates('Alfa1/Alfa1_1andar_sem_imagem.svg')\n",
    "pontosAlfa1Andar2 = getPotintsCoordinates('Alfa1/Alfa1_2andar_sem_imagem.svg')\n",
    "pontosAlfa1Andar3 = getPotintsCoordinates('Alfa1/Alfa1_3andar_sem_imagem.svg')"
   ]
  },
  {
   "cell_type": "code",
   "execution_count": 5,
   "metadata": {},
   "outputs": [],
   "source": [
    "def insereIndexCsv(lista, inicio):\n",
    "    for i in range(len(lista)):\n",
    "        lista[i]['index_csv'] = i + inicio"
   ]
  },
  {
   "cell_type": "code",
   "execution_count": 10,
   "metadata": {},
   "outputs": [],
   "source": [
    "insereIndexCsv(pontosAlfa1Terreo, 81)\n",
    "insereIndexCsv(pontosAlfa1Andar1, 81+len(pontosAlfa1Terreo))\n",
    "insereIndexCsv(pontosAlfa1Andar2, 81+len(pontosAlfa1Terreo)+len(pontosAlfa1Andar1))\n",
    "insereIndexCsv(pontosAlfa1Andar3, 81+len(pontosAlfa1Terreo)+len(pontosAlfa1Andar1)+len(pontosAlfa1Andar2))"
   ]
  },
  {
   "cell_type": "code",
   "execution_count": 11,
   "metadata": {},
   "outputs": [],
   "source": [
    "ref_1_terreo = \"escada_alfa1_esquerda_terreo\"\n",
    "ref_2_terreo = \"escada_alfa1_direita_terreo\"\n",
    "ref_1_andar_1 = \"sala_de_aula_alfa1_104\" \n",
    "ref_2_andar_1 = \"sala_de_aula_alfa1_105\"\n",
    "ref_1_andar_2 = \"sala_de_aula_alfa1_202\" \n",
    "ref_2_andar_2 = \"sala_de_aula_alfa1_203\"\n",
    "ref_1_andar_3 = \"laboratorio_alfa1_302\" \n",
    "ref_2_andar_3 = \"laboratorio_alfa1_303\"\n",
    "escalaRefTerreo =  24.67\n",
    "escalaRefAndar1 = 7.08\n",
    "escalaRefAndar2 = 14.28\n",
    "escalaRefAndar3 = 25.76"
   ]
  },
  {
   "cell_type": "code",
   "execution_count": 12,
   "metadata": {},
   "outputs": [],
   "source": [
    "import numpy as np\n",
    "\n",
    "def getDistances(array, ref1, ref2, scale):\n",
    "    indexRefer1 = array.index(list(filter(lambda x: x['id'] == ref1, array))[0])\n",
    "    indexRefer2 = array.index(list(filter(lambda x: x['id'] == ref2, array))[0])\n",
    "    npAr = np.array([[val[\"x_coordinate\"], val[\"y_coordinate\"]] for val in array])\n",
    "    absDistances = np.linalg.norm(npAr - npAr[:,None], axis=-1)\n",
    "    distCart = absDistances[indexRefer1][indexRefer2]\n",
    "    realDistances = (scale/distCart)*absDistances\n",
    "    return realDistances"
   ]
  },
  {
   "cell_type": "code",
   "execution_count": 13,
   "metadata": {},
   "outputs": [],
   "source": [
    "distanciasTerreo = getDistances(pontosAlfa1Terreo, ref_1_terreo, ref_2_terreo, escalaRefTerreo)\n",
    "distanciasAndar1 = getDistances(pontosAlfa1Andar1, ref_1_andar_1, ref_2_andar_1, escalaRefAndar1)\n",
    "distanciasAndar2 = getDistances(pontosAlfa1Andar2, ref_1_andar_2, ref_2_andar_2, escalaRefAndar2)\n",
    "distanciasAndar3 = getDistances(pontosAlfa1Andar3, ref_1_andar_3, ref_2_andar_3, escalaRefAndar3)"
   ]
  },
  {
   "cell_type": "code",
   "execution_count": 14,
   "metadata": {},
   "outputs": [],
   "source": [
    "def criaStringCsv(lista):\n",
    "    for i in range(len(lista)):\n",
    "       print('{},{},,'.format(lista[i]['index_csv'], lista[i]['id']))"
   ]
  },
  {
   "cell_type": "code",
   "execution_count": 15,
   "metadata": {},
   "outputs": [
    {
     "name": "stdout",
     "output_type": "stream",
     "text": [
      "81,banheiro_alfa1_esquerda_terreo,,\n",
      "82,cantina_alfa1,,\n",
      "83,laboratorio_1_alfa1,,\n",
      "84,escada_alfa1_esquerda_terreo,,\n",
      "85,xerox,,\n",
      "86,escada_alfa1_direita_terreo,,\n",
      "87,laboratorio_2_alfa1,,\n",
      "88,secretaria_academica,,\n",
      "89,banheiro_alfa1_direita_terreo,,\n",
      "90,refeitorio_alfa1,,\n",
      "91,entrada_alfa1_1,,\n",
      "92,entrada_alfa1_3,,\n",
      "93,laboratorio_alfa1_101,,\n",
      "94,sala_de_aula_alfa1_102,,\n",
      "95,escada_alfa1_esquerda_1a,,\n",
      "96,escada_alfa1_direita_1a,,\n",
      "97,sala_de_aula_alfa1_101,,\n",
      "98,sala_de_aula_alfa1_103,,\n",
      "99,sala_de_estudos_alfa1_101,,\n",
      "100,sala_de_aula_alfa1_104,,\n",
      "101,sala_de_aula_alfa1_105,,\n",
      "102,sala_de_aula_alfa1_106,,\n",
      "103,banheiro_alfa1_direita_1a,,\n",
      "104,laboratorio_alfa1_102,,\n",
      "105,banheiro_alfa1_esquerda_1a,,\n",
      "106,sala_de_aula_alfa1_202,,\n",
      "107,banheiro_alfa1_direita_2a,,\n",
      "108,sala_de_apoio_alfa1_2a,,\n",
      "109,sala_de_estudos_alfa1_2a,,\n",
      "110,escada_alfa1_direita_2a,,\n",
      "111,escada_alfa1_esquerda_2a,,\n",
      "112,banheiro_alfa1_esquerda_2a,,\n",
      "113,sala_de_aula_alfa1_201,,\n",
      "114,sala_de_aula_alfa1_204,,\n",
      "115,sala_de_aula_alfa1_203,,\n",
      "116,sala_de_aula_alfa1_205,,\n",
      "117,sala_de_aula_alfa1_206,,\n",
      "118,banheiro_alfa1_esquerdo_3,,\n",
      "119,laboratorio_alfa1_301,,\n",
      "120,laboratorio_alfa1_305,,\n",
      "121,escada_alfa1_3,,\n",
      "122,path34,,\n",
      "123,laboratorio_alfa1_306,,\n",
      "124,laboratorio_alfa1_304,,\n",
      "125,laboratorio_alfa1_303,,\n",
      "126,laboratorio_alfa1_302,,\n",
      "127,banheiro_alfa1_direito_3,,\n",
      "128,sala_de_apoio_alfa1_3,,\n",
      "129,sala_de_estudos_alfa1_3,,\n"
     ]
    }
   ],
   "source": [
    "criaStringCsv(pontosAlfa1Terreo+pontosAlfa1Andar1+pontosAlfa1Andar2+pontosAlfa1Andar3)"
   ]
  },
  {
   "cell_type": "code",
   "execution_count": 16,
   "metadata": {},
   "outputs": [],
   "source": [
    "cutoff = 20\n",
    "def criaAtributoDistanciaParaCsv(listaPontos, listaDistancias):\n",
    "    distancias = {}\n",
    "    begin = 0\n",
    "    for i in range(len(listaDistancias)):\n",
    "        distancias[listaPontos[i]['index_csv']] = {}\n",
    "        for j in range(begin, len(listaDistancias[i])):\n",
    "            if (listaDistancias[i][j] <= cutoff) and listaDistancias[i][j] > 0:\n",
    "                distancias[listaPontos[i]['index_csv']][listaPontos[j]['index_csv']] = listaDistancias[i][j]\n",
    "        begin += 1\n",
    "        if distancias[listaPontos[i]['index_csv']] == {}:\n",
    "            del distancias[listaPontos[i]['index_csv']]\n",
    "    return distancias"
   ]
  },
  {
   "cell_type": "code",
   "execution_count": 17,
   "metadata": {},
   "outputs": [],
   "source": [
    "dict_terreo = criaAtributoDistanciaParaCsv(pontosAlfa1Terreo, distanciasTerreo)\n",
    "dict_andar1 = criaAtributoDistanciaParaCsv(pontosAlfa1Andar1, distanciasAndar1)\n",
    "dict_andar2 = criaAtributoDistanciaParaCsv(pontosAlfa1Andar2, distanciasAndar2)\n",
    "dict_andar3 = criaAtributoDistanciaParaCsv(pontosAlfa1Andar3, distanciasAndar3)"
   ]
  },
  {
   "cell_type": "code",
   "execution_count": 18,
   "metadata": {},
   "outputs": [],
   "source": [
    "def criaStringEdgesCsv(dicionario, indexInicial):\n",
    "    indexEdge = indexInicial\n",
    "    for keyPrimaria in dicionario:\n",
    "        for keyInterna in dicionario[keyPrimaria]:\n",
    "            print('{},{},Undirected,{},,,{}'.format(keyPrimaria, keyInterna, round(dicionario[keyPrimaria][keyInterna], 1), indexEdge))\n",
    "            indexEdge += 1\n",
    "    return indexEdge"
   ]
  },
  {
   "cell_type": "code",
   "execution_count": 20,
   "metadata": {},
   "outputs": [
    {
     "name": "stdout",
     "output_type": "stream",
     "text": [
      "81,83,Undirected,19.8,,,230\n",
      "81,90,Undirected,13.9,,,231\n",
      "82,83,Undirected,9.2,,,232\n",
      "82,84,Undirected,8.8,,,233\n",
      "82,90,Undirected,8.3,,,234\n",
      "82,91,Undirected,3.2,,,235\n",
      "82,92,Undirected,19.0,,,236\n",
      "83,84,Undirected,1.7,,,237\n",
      "83,90,Undirected,8.1,,,238\n",
      "83,91,Undirected,10.5,,,239\n",
      "83,92,Undirected,14.7,,,240\n",
      "84,90,Undirected,9.3,,,241\n",
      "84,91,Undirected,9.6,,,242\n",
      "84,92,Undirected,13.3,,,243\n",
      "85,86,Undirected,1.9,,,244\n",
      "85,87,Undirected,18.3,,,245\n",
      "85,88,Undirected,3.6,,,246\n",
      "85,92,Undirected,12.0,,,247\n",
      "86,87,Undirected,16.4,,,248\n",
      "86,88,Undirected,2.8,,,249\n",
      "86,92,Undirected,13.7,,,250\n",
      "87,88,Undirected,16.3,,,251\n",
      "87,89,Undirected,8.9,,,252\n",
      "88,92,Undirected,15.4,,,253\n",
      "90,91,Undirected,11.3,,,254\n",
      "91,92,Undirected,17.4,,,255\n",
      "93,94,Undirected,2.7,,,256\n",
      "93,95,Undirected,2.0,,,257\n",
      "93,97,Undirected,7.0,,,258\n",
      "93,98,Undirected,8.2,,,259\n",
      "93,99,Undirected,15.1,,,260\n",
      "93,105,Undirected,19.7,,,261\n",
      "94,95,Undirected,2.4,,,262\n",
      "94,97,Undirected,7.3,,,263\n",
      "94,98,Undirected,7.1,,,264\n",
      "94,99,Undirected,14.2,,,265\n",
      "95,97,Undirected,8.7,,,266\n",
      "95,98,Undirected,6.2,,,267\n",
      "95,99,Undirected,13.2,,,268\n",
      "96,98,Undirected,17.7,,,269\n",
      "96,99,Undirected,10.6,,,270\n",
      "96,100,Undirected,4.1,,,271\n",
      "96,101,Undirected,10.8,,,272\n",
      "96,102,Undirected,17.7,,,273\n",
      "96,104,Undirected,17.5,,,274\n",
      "97,98,Undirected,14.3,,,275\n",
      "97,105,Undirected,13.0,,,276\n",
      "98,99,Undirected,7.2,,,277\n",
      "99,100,Undirected,13.9,,,278\n",
      "100,101,Undirected,7.1,,,279\n",
      "100,102,Undirected,14.1,,,280\n",
      "100,104,Undirected,14.2,,,281\n",
      "101,102,Undirected,7.0,,,282\n",
      "101,103,Undirected,14.0,,,283\n",
      "101,104,Undirected,7.3,,,284\n",
      "102,103,Undirected,7.0,,,285\n",
      "102,104,Undirected,2.3,,,286\n",
      "103,104,Undirected,7.4,,,287\n",
      "106,108,Undirected,14.7,,,288\n",
      "106,109,Undirected,2.5,,,289\n",
      "106,110,Undirected,10.8,,,290\n",
      "106,111,Undirected,13.8,,,291\n",
      "106,113,Undirected,14.8,,,292\n",
      "106,115,Undirected,14.3,,,293\n",
      "107,114,Undirected,7.5,,,294\n",
      "107,117,Undirected,8.7,,,295\n",
      "108,109,Undirected,15.6,,,296\n",
      "108,110,Undirected,4.0,,,297\n",
      "108,114,Undirected,14.4,,,298\n",
      "108,115,Undirected,2.5,,,299\n",
      "108,117,Undirected,13.3,,,300\n",
      "109,110,Undirected,11.6,,,301\n",
      "109,111,Undirected,12.5,,,302\n",
      "109,113,Undirected,13.9,,,303\n",
      "109,115,Undirected,15.6,,,304\n",
      "110,114,Undirected,18.4,,,305\n",
      "110,115,Undirected,4.5,,,306\n",
      "110,117,Undirected,17.3,,,307\n",
      "111,113,Undirected,2.6,,,308\n",
      "111,116,Undirected,13.6,,,309\n",
      "112,116,Undirected,8.5,,,310\n",
      "113,116,Undirected,12.7,,,311\n",
      "114,115,Undirected,14.5,,,312\n",
      "114,117,Undirected,2.8,,,313\n",
      "115,117,Undirected,13.8,,,314\n",
      "118,119,Undirected,19.6,,,315\n",
      "118,120,Undirected,19.9,,,316\n",
      "119,120,Undirected,2.6,,,317\n",
      "119,121,Undirected,3.2,,,318\n",
      "119,126,Undirected,2.2,,,319\n",
      "119,129,Undirected,14.4,,,320\n",
      "120,121,Undirected,1.8,,,321\n",
      "120,126,Undirected,3.3,,,322\n",
      "120,129,Undirected,14.1,,,323\n",
      "121,126,Undirected,2.5,,,324\n",
      "121,129,Undirected,12.3,,,325\n",
      "122,123,Undirected,15.4,,,326\n",
      "122,124,Undirected,6.6,,,327\n",
      "122,125,Undirected,3.4,,,328\n",
      "122,128,Undirected,3.7,,,329\n",
      "122,129,Undirected,11.6,,,330\n",
      "123,124,Undirected,9.9,,,331\n",
      "123,125,Undirected,13.7,,,332\n",
      "123,127,Undirected,10.1,,,333\n",
      "123,128,Undirected,11.7,,,334\n",
      "124,125,Undirected,3.9,,,335\n",
      "124,127,Undirected,18.9,,,336\n",
      "124,128,Undirected,3.5,,,337\n",
      "124,129,Undirected,17.8,,,338\n",
      "125,128,Undirected,3.0,,,339\n",
      "125,129,Undirected,14.0,,,340\n",
      "126,129,Undirected,12.3,,,341\n",
      "128,129,Undirected,15.3,,,342\n"
     ]
    }
   ],
   "source": [
    "index_0 = criaStringEdgesCsv(dict_terreo, 230)\n",
    "index_1 = criaStringEdgesCsv(dict_andar1, index_0)\n",
    "index_2 = criaStringEdgesCsv(dict_andar2, index_1)\n",
    "index_3 = criaStringEdgesCsv(dict_andar3, index_2)"
   ]
  }
 ],
 "metadata": {
  "kernelspec": {
   "display_name": "Python 3.7.6 64-bit ('base': conda)",
   "language": "python",
   "name": "python37664bitbasecondab45b7b2c73f5488095639058eb6c9ef6"
  },
  "language_info": {
   "codemirror_mode": {
    "name": "ipython",
    "version": 3
   },
   "file_extension": ".py",
   "mimetype": "text/x-python",
   "name": "python",
   "nbconvert_exporter": "python",
   "pygments_lexer": "ipython3",
   "version": "3.8.3"
  }
 },
 "nbformat": 4,
 "nbformat_minor": 4
}
