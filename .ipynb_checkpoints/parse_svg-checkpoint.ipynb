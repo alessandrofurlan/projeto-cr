{
 "cells": [
  {
   "cell_type": "code",
   "execution_count": 73,
   "metadata": {},
   "outputs": [],
   "source": [
    "from bs4 import BeautifulSoup\n",
    "\n",
    "def getPotintsCoordinates(fileName):\n",
    "    with open(fileName, 'r') as file:\n",
    "        html_doc = file.read()\n",
    "        soup = BeautifulSoup(html_doc, 'html.parser')\n",
    "        points = [{\"id\": circle['id'], \"x_coordinate\": float(circle['cx']), \"y_coordinate\": float(circle['cy']) } for circle in soup.find_all('circle') + soup.find_all('ellipse')]\n",
    "        return points "
   ]
  },
  {
   "cell_type": "code",
   "execution_count": 91,
   "metadata": {},
   "outputs": [],
   "source": [
    "pontosAlfa2Terreo = getPotintsCoordinates('Alfa2/Alfa2_terreo.svg')\n",
    "pontosAlfa2Andar1 = getPotintsCoordinates('Alfa2/Alfa2_1andar.svg')\n",
    "pontosAlfa2Andar2 = getPotintsCoordinates('Alfa2/Alfa2_2andar.svg')\n",
    "pontosAlfa2Andar3 = getPotintsCoordinates('Alfa2/Alfa2_3andar.svg')\n"
   ]
  },
  {
   "cell_type": "code",
   "execution_count": 75,
   "metadata": {},
   "outputs": [],
   "source": [
    "ref_1_terreo = \"sala_de_estudos_0\"\n",
    "ref_2_terreo = \"lab_informatica_3\"\n",
    "ref_1_andar_1 = \"Sala_de_aula_103\" \n",
    "ref_2_andar_1 = \"Sala_de_aula_104\"\n",
    "ref_1_andar_2 = \"sala_de_aula_204\" \n",
    "ref_2_andar_2 = \"sala_de_aula_203\"\n",
    "ref_1_andar_3 = \"sala_de_aula_302\" \n",
    "ref_2_andar_3 = \"sala_de_aula_304\"\n",
    "escalaRefTerreo =  18.7\n",
    "escalaRefAndares = 7.08"
   ]
  },
  {
   "cell_type": "code",
   "execution_count": 89,
   "metadata": {},
   "outputs": [],
   "source": [
    "import numpy as np\n",
    "\n",
    "def getDistances(array, ref1, ref2, scale):\n",
    "    indexRefer1 = array.index(list(filter(lambda x: x['id'] == ref1, array))[0])\n",
    "    indexRefer2 = array.index(list(filter(lambda x: x['id'] == ref2, array))[0])\n",
    "    npAr = np.array([[val[\"x_coordinate\"], val[\"y_coordinate\"]] for val in array])\n",
    "    absDistances = np.linalg.norm(npAr - npAr[:,None], axis=-1)\n",
    "    distCart = absDistances[indexRefer1][indexRefer2]\n",
    "    realDistances = (scale/distCart)*absDistances\n",
    "    return realDistances"
   ]
  },
  {
   "cell_type": "code",
   "execution_count": 93,
   "metadata": {},
   "outputs": [
    {
     "name": "stdout",
     "output_type": "stream",
     "text": [
      "[[ 0.         14.46634439  7.40208689 63.67769457 50.42240255 56.1220262\n",
      "  19.41558153 21.55278399 28.63158209 12.86254176 40.40279431]\n",
      " [14.46634439  0.         21.75210994 49.49899871 36.27208097 41.83325499\n",
      "   5.08345847  7.76435717 14.65666935  1.61907461 26.11687678]\n",
      " [ 7.40208689 21.75210994  0.         71.07384378 57.81906929 63.50166288\n",
      "  26.75833886 28.95085605 36.03048122 20.13576395 47.77883836]\n",
      " [63.67769457 49.49899871 71.07384378  0.         13.2555085   7.93509126\n",
      "  44.42019732 42.12519036 35.04840862 51.11064798 23.40690039]\n",
      " [50.42240255 36.27208097 57.81906929 13.2555085   0.          6.11977334\n",
      "  31.18980663 28.86976689 21.79297161 37.88039503 10.27336374]\n",
      " [56.1220262  41.83325499 63.50166288  7.93509126  6.11977334  0.\n",
      "  36.77097907 34.60417777 27.56325921 43.45019744 15.72430497]\n",
      " [19.41558153  5.08345847 26.75833886 44.42019732 31.18980663 36.77097907\n",
      "   0.          3.1126602   9.61237516  6.69086361 21.04909178]\n",
      " [21.55278399  7.76435717 28.95085605 42.12519036 28.86976689 34.60417777\n",
      "   3.1126602   0.          7.08        9.28211796 18.91498294]\n",
      " [28.63158209 14.65666935 36.03048122 35.04840862 21.79297161 27.56325921\n",
      "   9.61237516  7.08        0.         16.23446237 11.93723477]\n",
      " [12.86254176  1.61907461 20.13576395 51.11064798 37.88039503 43.45019744\n",
      "   6.69086361  9.28211796 16.23446237  0.         27.73248829]\n",
      " [40.40279431 26.11687678 47.77883836 23.40690039 10.27336374 15.72430497\n",
      "  21.04909178 18.91498294 11.93723477 27.73248829  0.        ]]\n"
     ]
    }
   ],
   "source": [
    "distanciasTerreo = getDistances(pontosAlfa2Terreo, ref_1_terreo, ref_2_terreo, escalaRefTerreo)\n",
    "distanciasAndar1 = getDistances(pontosAlfa2Andar1, ref_1_andar_1, ref_2_andar_1, escalaRefAndares)\n",
    "distanciasAndar2 = getDistances(pontosAlfa2Andar2, ref_1_andar_2, ref_2_andar_2, escalaRefAndares)\n",
    "distanciasAndar3 = getDistances(pontosAlfa2Andar3, ref_1_andar_3, ref_2_andar_3, escalaRefAndares)"
   ]
  }
 ],
 "metadata": {
  "kernelspec": {
   "display_name": "Python 3.7.6 64-bit ('base': conda)",
   "language": "python",
   "name": "python37664bitbasecondab45b7b2c73f5488095639058eb6c9ef6"
  },
  "language_info": {
   "codemirror_mode": {
    "name": "ipython",
    "version": 3
   },
   "file_extension": ".py",
   "mimetype": "text/x-python",
   "name": "python",
   "nbconvert_exporter": "python",
   "pygments_lexer": "ipython3",
   "version": "3.8.3"
  }
 },
 "nbformat": 4,
 "nbformat_minor": 4
}
